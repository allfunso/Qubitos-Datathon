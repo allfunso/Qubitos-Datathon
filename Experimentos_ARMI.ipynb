{
 "cells": [
  {
   "cell_type": "code",
   "execution_count": 1,
   "id": "5e087dab-f5bb-46b7-a1e8-d0bbd4cd0e6f",
   "metadata": {},
   "outputs": [],
   "source": [
    "import numpy as np\n",
    "import pandas as pd\n",
    "import matplotlib.pyplot as plt"
   ]
  },
  {
   "cell_type": "code",
   "execution_count": 2,
   "id": "3f481fab-bc9e-4c8e-88fe-5aece8188d84",
   "metadata": {},
   "outputs": [
    {
     "name": "stderr",
     "output_type": "stream",
     "text": [
      "C:\\Users\\Jose Armando\\AppData\\Local\\Temp\\ipykernel_3200\\877011849.py:9: DtypeWarning: Columns (8) have mixed types. Specify dtype option on import or set low_memory=False.\n",
      "  df_2023 = pd.read_csv(\"Data/ExtraccionDomiVersionFinal/ListaCobroDetalle2023.csv\")\n"
     ]
    }
   ],
   "source": [
    "# Dataframes complementarios (Traducción de IDs)                                         # 1ra Columna   -> Resto de columnas\n",
    "df_id_banco = pd.read_csv(\"Data/ExtraccionDomiVersionFinal/CatBanco.csv\")                # ID Banco      -> Nombre del banco\n",
    "df_id_emisora = pd.read_csv(\"Data/ExtraccionDomiVersionFinal/CatEmisora.csv\")            # ID Emisora    -> Nombre Emisora, ID Banco, Emisora??, Tipo envío\n",
    "df_id_respuesta = pd.read_csv(\"Data/ExtraccionDomiVersionFinal/CatRespuestaBancos.csv\")  # ID Respuesta  -> Descripción\n",
    "df_id_listaemisor = pd.read_csv(\"Data/ExtraccionDomiVersionFinal/ListaCobroEmisora.csv\") # ID ListaCobro -> ID Emisora\n",
    "\n",
    "# Dataframes detallados por año\n",
    "df_2022 = pd.read_csv(\"Data/ExtraccionDomiVersionFinal/ListaCobroDetalle2022.csv\")\n",
    "df_2023 = pd.read_csv(\"Data/ExtraccionDomiVersionFinal/ListaCobroDetalle2023.csv\")\n",
    "df_2024 = pd.read_csv(\"Data/ExtraccionDomiVersionFinal/ListaCobroDetalle2024.csv\")\n",
    "df_2025 = pd.read_csv(\"Data/ExtraccionDomiVersionFinal/ListaCobroDetalle2025.csv\")"
   ]
  },
  {
   "cell_type": "code",
   "execution_count": 3,
   "id": "cb51394f-991a-404c-ba7c-7558b3424ef4",
   "metadata": {},
   "outputs": [
    {
     "data": {
      "text/html": [
       "<div>\n",
       "<style scoped>\n",
       "    .dataframe tbody tr th:only-of-type {\n",
       "        vertical-align: middle;\n",
       "    }\n",
       "\n",
       "    .dataframe tbody tr th {\n",
       "        vertical-align: top;\n",
       "    }\n",
       "\n",
       "    .dataframe thead th {\n",
       "        text-align: right;\n",
       "    }\n",
       "</style>\n",
       "<table border=\"1\" class=\"dataframe\">\n",
       "  <thead>\n",
       "    <tr style=\"text-align: right;\">\n",
       "      <th></th>\n",
       "      <th>idListaCobro</th>\n",
       "      <th>idCredito</th>\n",
       "      <th>consecutivoCobro</th>\n",
       "      <th>IdBanco</th>\n",
       "      <th>montoExigible</th>\n",
       "      <th>montoCobrar</th>\n",
       "      <th>montoCobrado</th>\n",
       "      <th>fechaCobroBanco</th>\n",
       "      <th>IdRespuestaBanco</th>\n",
       "    </tr>\n",
       "  </thead>\n",
       "  <tbody>\n",
       "    <tr>\n",
       "      <th>0</th>\n",
       "      <td>100613</td>\n",
       "      <td>83021</td>\n",
       "      <td>27169966</td>\n",
       "      <td>2</td>\n",
       "      <td>572.24</td>\n",
       "      <td>572.24</td>\n",
       "      <td>0.0</td>\n",
       "      <td>NaN</td>\n",
       "      <td>04</td>\n",
       "    </tr>\n",
       "    <tr>\n",
       "      <th>1</th>\n",
       "      <td>100613</td>\n",
       "      <td>87227</td>\n",
       "      <td>27169937</td>\n",
       "      <td>2</td>\n",
       "      <td>517.74</td>\n",
       "      <td>517.74</td>\n",
       "      <td>0.0</td>\n",
       "      <td>NaN</td>\n",
       "      <td>04</td>\n",
       "    </tr>\n",
       "    <tr>\n",
       "      <th>2</th>\n",
       "      <td>100613</td>\n",
       "      <td>103785</td>\n",
       "      <td>27169946</td>\n",
       "      <td>2</td>\n",
       "      <td>681.23</td>\n",
       "      <td>681.23</td>\n",
       "      <td>0.0</td>\n",
       "      <td>NaN</td>\n",
       "      <td>04</td>\n",
       "    </tr>\n",
       "    <tr>\n",
       "      <th>3</th>\n",
       "      <td>100613</td>\n",
       "      <td>110463</td>\n",
       "      <td>27169969</td>\n",
       "      <td>2</td>\n",
       "      <td>572.24</td>\n",
       "      <td>572.24</td>\n",
       "      <td>0.0</td>\n",
       "      <td>NaN</td>\n",
       "      <td>04</td>\n",
       "    </tr>\n",
       "    <tr>\n",
       "      <th>4</th>\n",
       "      <td>100613</td>\n",
       "      <td>113755</td>\n",
       "      <td>27169948</td>\n",
       "      <td>2</td>\n",
       "      <td>340.62</td>\n",
       "      <td>340.62</td>\n",
       "      <td>0.0</td>\n",
       "      <td>NaN</td>\n",
       "      <td>04</td>\n",
       "    </tr>\n",
       "  </tbody>\n",
       "</table>\n",
       "</div>"
      ],
      "text/plain": [
       "   idListaCobro  idCredito  consecutivoCobro  IdBanco  montoExigible  \\\n",
       "0        100613      83021          27169966        2         572.24   \n",
       "1        100613      87227          27169937        2         517.74   \n",
       "2        100613     103785          27169946        2         681.23   \n",
       "3        100613     110463          27169969        2         572.24   \n",
       "4        100613     113755          27169948        2         340.62   \n",
       "\n",
       "   montoCobrar  montoCobrado fechaCobroBanco IdRespuestaBanco  \n",
       "0       572.24           0.0             NaN               04  \n",
       "1       517.74           0.0             NaN               04  \n",
       "2       681.23           0.0             NaN               04  \n",
       "3       572.24           0.0             NaN               04  \n",
       "4       340.62           0.0             NaN               04  "
      ]
     },
     "execution_count": 3,
     "metadata": {},
     "output_type": "execute_result"
    }
   ],
   "source": [
    "cobros_detallados = pd.concat([df_2022, df_2023, df_2024, df_2025], ignore_index=True)\n",
    "cobros_detallados.rename(columns={\n",
    "    'idRespuestaBanco': 'IdRespuestaBanco',\n",
    "    'idBanco': 'IdBanco'\n",
    "}, inplace=True)\n",
    "\n",
    "cobros_detallados.head()"
   ]
  },
  {
   "cell_type": "code",
   "execution_count": 6,
   "id": "96cfd135-ddd9-4250-baa7-d180870d26c9",
   "metadata": {},
   "outputs": [
    {
     "data": {
      "image/png": "[encoded data removed]",
      "text/plain": [
       "<Figure size 640x480 with 1 Axes>"
      ]
     },
     "metadata": {},
     "output_type": "display_data"
    }
   ],
   "source": [
    "import networkx as nx\n",
    "\n",
    "dataframes = {\n",
    "    \"banco\": df_id_banco,\n",
    "    \"emisora\": df_id_emisora,\n",
    "    \"respuesta\": df_id_respuesta,\n",
    "    \"listaemisor\": df_id_listaemisor,\n",
    "    \"cobros_detallados\": cobros_detallados\n",
    "}\n",
    "\n",
    "G = nx.DiGraph()\n",
    "\n",
    "# Agregar nodos\n",
    "for name in dataframes:\n",
    "    G.add_node(name)\n",
    "\n",
    "# Comparar y detectar relaciones\n",
    "for table_a, df_a in dataframes.items():\n",
    "    for table_b, df_b in dataframes.items():\n",
    "        if table_a != table_b:\n",
    "            shared_keys = set(df_a.columns).intersection(df_b.columns)\n",
    "            for key in shared_keys:\n",
    "                G.add_edge(table_b, table_a, label=key)\n",
    "\n",
    "# Graficar grafo\n",
    "pos = nx.spring_layout(G, seed=42)\n",
    "nx.draw(G, pos, with_labels=True, node_color=\"lightgreen\", node_size=3000, font_size=10, font_weight=\"bold\", arrows=True)\n",
    "edge_labels = nx.get_edge_attributes(G, \"label\")\n",
    "nx.draw_networkx_edge_labels(G, pos, edge_labels=edge_labels, font_color=\"darkred\", font_size=9)\n",
    "\n",
    "plt.title(\"Digrama de relación\")\n",
    "plt.show()\n"
   ]
  },
  {
   "cell_type": "code",
   "execution_count": 34,
   "id": "7f34ac87-ec5e-452d-8253-cd65ec3ff344",
   "metadata": {},
   "outputs": [
    {
     "name": "stdout",
     "output_type": "stream",
     "text": [
      "De los cobros exitosos se logró cobrar $222597974.35 de los $225481614.75 exigidos\n"
     ]
    }
   ],
   "source": [
    "# Chequeo de cobros exitosos\n",
    "\n",
    "cobros_exitosos = cobros_detallados[cobros_detallados['IdRespuestaBanco'].isin([0, 0.0])]\n",
    "monto_exigible_exito = cobros_exitosos['montoExigible'].sum()\n",
    "monto_cobrado_exito = cobros_exitosos['montoCobrado'].sum()\n",
    "print(f\"De los cobros exitosos se logró cobrar ${monto_cobrado_exito:.2f} de los ${monto_exigible_exito:.2f} exigidos\")"
   ]
  },
  {
   "cell_type": "code",
   "execution_count": 41,
   "id": "5b2d71b2-0bd9-4d9d-adc0-335de90969d2",
   "metadata": {},
   "outputs": [
    {
     "name": "stdout",
     "output_type": "stream",
     "text": [
      "De los cobros exitosos se logró cobrar $306252666.48 de los $308430834.94 exigidos\n"
     ]
    }
   ],
   "source": [
    "chequeo = cobros_detallados[cobros_detallados['montoCobrado'] > 1]\n",
    "chequeo.head\n",
    "monto_exigible_chequeo = chequeo['montoExigible'].sum()\n",
    "monto_cobrado_chequeo = chequeo['montoCobrado'].sum()\n",
    "print(f\"De los cobros exitosos se logró cobrar ${monto_cobrado_chequeo:.2f} de los ${monto_exigible_chequeo:.2f} exigidos\")"
   ]
  },
  {
   "cell_type": "code",
   "execution_count": 43,
   "id": "c6a38c9d-1c56-4e1b-8bad-3e3042bc6a26",
   "metadata": {},
   "outputs": [
    {
     "data": {
      "text/plain": [
       "IdRespuestaBanco\n",
       "0.0    274136\n",
       "00      18480\n",
       "04          6\n",
       "Name: count, dtype: int64"
      ]
     },
     "execution_count": 43,
     "metadata": {},
     "output_type": "execute_result"
    }
   ],
   "source": [
    "chequeo['IdRespuestaBanco'].value_counts()"
   ]
  },
  {
   "cell_type": "code",
   "execution_count": 45,
   "id": "3bf2aa69-2b0e-4d35-afc1-88a08419d39a",
   "metadata": {},
   "outputs": [
    {
     "name": "stdout",
     "output_type": "stream",
     "text": [
      "De los cobros exitosos se logró cobrar $306242966.17 de los $308421134.63 exigidos\n"
     ]
    }
   ],
   "source": [
    "chequeo2 = chequeo[chequeo['IdRespuestaBanco'] != '04']\n",
    "chequeo2.head\n",
    "monto_exigible_chequeo2 = chequeo2['montoExigible'].sum()\n",
    "monto_cobrado_chequeo2 = chequeo2['montoCobrado'].sum()\n",
    "print(f\"De los cobros exitosos se logró cobrar ${monto_cobrado_chequeo2:.2f} de los ${monto_exigible_chequeo2:.2f} exigidos\")"
   ]
  },
  {
   "cell_type": "code",
   "execution_count": 47,
   "id": "388a9618-2cbf-4a0e-a44e-cb95d3331ed9",
   "metadata": {},
   "outputs": [],
   "source": [
    "cobros_0 = chequeo2\n",
    "cobros_0 = cobros_0.merge(df_id_listaemisor[['idListaCobro', 'idEmisora']], on='idListaCobro', how='left')"
   ]
  }
 ],
 "metadata": {
  "kernelspec": {
   "display_name": "Python 3 (ipykernel)",
   "language": "python",
   "name": "python3"
  },
  "language_info": {
   "codemirror_mode": {
    "name": "ipython",
    "version": 3
   },
   "file_extension": ".py",
   "mimetype": "text/x-python",
   "name": "python",
   "nbconvert_exporter": "python",
   "pygments_lexer": "ipython3",
   "version": "3.11.7"
  }
 },
 "nbformat": 4,
 "nbformat_minor": 5
}
