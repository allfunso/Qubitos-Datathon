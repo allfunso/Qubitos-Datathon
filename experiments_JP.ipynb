{
 "cells": [
  {
   "cell_type": "code",
   "execution_count": 44,
   "id": "6a95848a",
   "metadata": {},
   "outputs": [],
   "source": [
    "import pandas as pd\n",
    "import glob\n",
    "import os"
   ]
  },
  {
   "cell_type": "markdown",
   "id": "55b30697",
   "metadata": {},
   "source": [
    "Juntar todos los años"
   ]
  },
  {
   "cell_type": "code",
   "execution_count": 45,
   "id": "44a790b4",
   "metadata": {},
   "outputs": [
    {
     "name": "stderr",
     "output_type": "stream",
     "text": [
      "C:\\Users\\conej\\AppData\\Local\\Temp\\ipykernel_30756\\3647624057.py:8: DtypeWarning: Columns (8) have mixed types. Specify dtype option on import or set low_memory=False.\n",
      "  df_detalle = pd.concat([pd.read_csv(archivo) for archivo in archivos], ignore_index=True)\n"
     ]
    }
   ],
   "source": [
    "# Ruta a la carpeta que contiene los archivos\n",
    "ruta = 'Data/ExtraccionDomiVersionFinal/'\n",
    "\n",
    "# Obtener todos los archivos que coincidan con el patrón\n",
    "archivos = glob.glob(os.path.join(ruta, 'ListaCobroDetalle20*.csv'))\n",
    "\n",
    "# Leer y concatenar todos los archivos en un solo DataFrame\n",
    "df_detalle = pd.concat([pd.read_csv(archivo) for archivo in archivos], ignore_index=True)\n",
    "\n",
    "# Verificar las primeras filas del DataFrame consolidado\n",
    "# print(df_detalle.head())\n"
   ]
  },
  {
   "cell_type": "code",
   "execution_count": 46,
   "id": "86a48afa",
   "metadata": {},
   "outputs": [],
   "source": [
    "# Cargar catálogos\n",
    "cat_banco = pd.read_csv(os.path.join(ruta, 'CatBanco.csv'), sep='\\t')\n",
    "cat_emisora = pd.read_csv(os.path.join(ruta, 'CatEmisora.csv'), sep='\\t')\n",
    "# cat_respuesta = pd.read_csv(os.path.join(ruta, 'CatRespuestaBancos.csv'), sep='\\t')\n",
    "cat_respuesta = pd.read_csv('Data\\ExtraccionDomiVersionFinal\\CatRespuestaBancos.csv', sep=',', engine='python')\n"
   ]
  },
  {
   "cell_type": "code",
   "execution_count": 47,
   "id": "38c5b4b2",
   "metadata": {},
   "outputs": [],
   "source": [
    "# df_detalle_filtrado = df_detalle[\n",
    "#     df_detalle['idRespuestaBanco'].isin(['00', 0.0]) &\n",
    "#     (df_detalle['montoCobrado'] > 0)\n",
    "# ]\n",
    "df_detalle_filtrado = df_detalle[\n",
    "    (df_detalle['idRespuestaBanco'] != '04') &\n",
    "    (df_detalle['montoCobrado'] > 0)\n",
    "]\n",
    "\n"
   ]
  },
  {
   "cell_type": "code",
   "execution_count": 48,
   "id": "c12ccef3",
   "metadata": {},
   "outputs": [
    {
     "name": "stdout",
     "output_type": "stream",
     "text": [
      "           montoExigible  montoCobrar  montoCobrado  num_cobros\n",
      "idCredito                                                      \n",
      "4635              480.39       480.39        480.39           3\n",
      "4914              384.98       384.98        384.98           1\n",
      "10983            6019.02      6019.02       6019.02           3\n",
      "17740            1589.79      1589.79       1589.79           3\n",
      "18720             433.09       433.09        433.09           1\n",
      "18749             422.40       422.40        422.40           1\n",
      "18924            7957.62      7957.62       7957.62           3\n",
      "19635            4360.70      4360.70       4360.70           4\n",
      "20004            2201.67      2201.67       2201.67           1\n",
      "20873             231.68       231.68        231.68           1\n",
      "23597            1361.07      1361.07       1361.07           3\n",
      "25720             563.21       563.21        563.21           1\n",
      "26030             250.32       250.32        250.32           1\n",
      "27517             948.34       948.34        948.34           2\n",
      "31375            1445.54      1445.54       1445.54           1\n"
     ]
    }
   ],
   "source": [
    "estadisticas = df_detalle_filtrado.groupby('idCredito').agg({\n",
    "    'montoExigible': 'sum',\n",
    "    'montoCobrar':   'sum',\n",
    "    'montoCobrado':  'sum',\n",
    "    'idListaCobro':  'count',\n",
    "}).rename(columns={'idListaCobro': 'num_cobros'})\n",
    "\n",
    "print(estadisticas.head(15))"
   ]
  },
  {
   "cell_type": "code",
   "execution_count": 49,
   "id": "82d1dcc5",
   "metadata": {},
   "outputs": [
    {
     "name": "stdout",
     "output_type": "stream",
     "text": [
      "   idCredito idRespuestaBanco                  Descripcion\n",
      "0      83021               04  Cuenta Insuficiencia Fondos\n",
      "1      87227               04  Cuenta Insuficiencia Fondos\n",
      "2     103785               04  Cuenta Insuficiencia Fondos\n",
      "3     110463               04  Cuenta Insuficiencia Fondos\n",
      "4     113755               04  Cuenta Insuficiencia Fondos\n"
     ]
    }
   ],
   "source": [
    "# Unir con el catálogo de respuestas de bancos\n",
    "df_detalle = df_detalle.merge(cat_respuesta, how='left', left_on='idRespuestaBanco', right_on='IdRespuestaBanco')\n",
    "\n",
    "# Verificar las primeras filas después de la unión\n",
    "print(df_detalle[['idCredito', 'idRespuestaBanco', 'Descripcion']].head())\n"
   ]
  },
  {
   "cell_type": "markdown",
   "id": "c41e083d",
   "metadata": {},
   "source": [
    "Estadística solo con montos pagados"
   ]
  },
  {
   "cell_type": "code",
   "execution_count": 50,
   "id": "7894e134",
   "metadata": {},
   "outputs": [],
   "source": [
    "estadistica_final = estadisticas[estadisticas['montoCobrado'] > 0]"
   ]
  },
  {
   "cell_type": "code",
   "execution_count": 51,
   "id": "fc1e3b82",
   "metadata": {},
   "outputs": [],
   "source": [
    "estadistica_final = estadisticas[estadisticas['montoCobrado'] > 0].copy()\n",
    "estadistica_final['porcentaje_pagado'] = (\n",
    "    estadistica_final['montoCobrado'] / estadistica_final['montoExigible']\n",
    ") * 100"
   ]
  },
  {
   "cell_type": "code",
   "execution_count": 52,
   "id": "8eabeeef",
   "metadata": {},
   "outputs": [
    {
     "name": "stdout",
     "output_type": "stream",
     "text": [
      "           montoExigible  montoCobrado  porcentaje_pagado\n",
      "idCredito                                                \n",
      "4635              480.39        480.39              100.0\n",
      "4914              384.98        384.98              100.0\n",
      "10983            6019.02       6019.02              100.0\n",
      "17740            1589.79       1589.79              100.0\n",
      "18720             433.09        433.09              100.0\n"
     ]
    }
   ],
   "source": [
    "print(estadistica_final[['montoExigible', 'montoCobrado', 'porcentaje_pagado']].head())\n"
   ]
  },
  {
   "cell_type": "code",
   "execution_count": 53,
   "id": "f9bf11d9",
   "metadata": {},
   "outputs": [
    {
     "name": "stdout",
     "output_type": "stream",
     "text": [
      "309468904.57\n",
      "306243537.24\n",
      "98.36393812486449\n"
     ]
    }
   ],
   "source": [
    "print(estadistica_final['montoExigible'].sum())\n",
    "print(estadistica_final['montoCobrado'].sum())\n",
    "print(estadistica_final['porcentaje_pagado'].mean())"
   ]
  },
  {
   "cell_type": "code",
   "execution_count": 54,
   "id": "d2d96fc9",
   "metadata": {},
   "outputs": [
    {
     "name": "stdout",
     "output_type": "stream",
     "text": [
      "idRespuestaBanco\n",
      "0.0    275317\n",
      "00      18586\n",
      "Name: count, dtype: int64\n"
     ]
    }
   ],
   "source": [
    "conteo_respuestas = df_detalle_filtrado['idRespuestaBanco'].value_counts()\n",
    "print(conteo_respuestas)\n"
   ]
  },
  {
   "cell_type": "code",
   "execution_count": 55,
   "id": "ea3496e2",
   "metadata": {},
   "outputs": [
    {
     "name": "stdout",
     "output_type": "stream",
     "text": [
      "IdRespuestaBanco\n",
      "00         1\n",
      "DD00025    1\n",
      "DOM5       1\n",
      "DOM4       1\n",
      "DOM3       1\n",
      "          ..\n",
      "83         1\n",
      "82         1\n",
      "81         1\n",
      "53         1\n",
      "DD00043    1\n",
      "Name: count, Length: 105, dtype: int64\n"
     ]
    }
   ],
   "source": [
    "print(cat_respuesta['IdRespuestaBanco'].value_counts())"
   ]
  },
  {
   "cell_type": "code",
   "execution_count": 56,
   "id": "9d18c70f",
   "metadata": {},
   "outputs": [
    {
     "data": {
      "text/html": [
       "<div>\n",
       "<style scoped>\n",
       "    .dataframe tbody tr th:only-of-type {\n",
       "        vertical-align: middle;\n",
       "    }\n",
       "\n",
       "    .dataframe tbody tr th {\n",
       "        vertical-align: top;\n",
       "    }\n",
       "\n",
       "    .dataframe thead th {\n",
       "        text-align: right;\n",
       "    }\n",
       "</style>\n",
       "<table border=\"1\" class=\"dataframe\">\n",
       "  <thead>\n",
       "    <tr style=\"text-align: right;\">\n",
       "      <th></th>\n",
       "      <th>idListaCobro</th>\n",
       "      <th>idCredito</th>\n",
       "      <th>consecutivoCobro</th>\n",
       "      <th>idBanco</th>\n",
       "      <th>montoExigible</th>\n",
       "      <th>montoCobrar</th>\n",
       "      <th>montoCobrado</th>\n",
       "      <th>fechaCobroBanco</th>\n",
       "      <th>idRespuestaBanco</th>\n",
       "      <th>IdRespuestaBanco</th>\n",
       "      <th>Descripcion</th>\n",
       "    </tr>\n",
       "  </thead>\n",
       "  <tbody>\n",
       "    <tr>\n",
       "      <th>0</th>\n",
       "      <td>100613</td>\n",
       "      <td>83021</td>\n",
       "      <td>27169966</td>\n",
       "      <td>2</td>\n",
       "      <td>572.24</td>\n",
       "      <td>572.24</td>\n",
       "      <td>0.0</td>\n",
       "      <td>NaN</td>\n",
       "      <td>04</td>\n",
       "      <td>04</td>\n",
       "      <td>Cuenta Insuficiencia Fondos</td>\n",
       "    </tr>\n",
       "    <tr>\n",
       "      <th>1</th>\n",
       "      <td>100613</td>\n",
       "      <td>87227</td>\n",
       "      <td>27169937</td>\n",
       "      <td>2</td>\n",
       "      <td>517.74</td>\n",
       "      <td>517.74</td>\n",
       "      <td>0.0</td>\n",
       "      <td>NaN</td>\n",
       "      <td>04</td>\n",
       "      <td>04</td>\n",
       "      <td>Cuenta Insuficiencia Fondos</td>\n",
       "    </tr>\n",
       "    <tr>\n",
       "      <th>2</th>\n",
       "      <td>100613</td>\n",
       "      <td>103785</td>\n",
       "      <td>27169946</td>\n",
       "      <td>2</td>\n",
       "      <td>681.23</td>\n",
       "      <td>681.23</td>\n",
       "      <td>0.0</td>\n",
       "      <td>NaN</td>\n",
       "      <td>04</td>\n",
       "      <td>04</td>\n",
       "      <td>Cuenta Insuficiencia Fondos</td>\n",
       "    </tr>\n",
       "    <tr>\n",
       "      <th>3</th>\n",
       "      <td>100613</td>\n",
       "      <td>110463</td>\n",
       "      <td>27169969</td>\n",
       "      <td>2</td>\n",
       "      <td>572.24</td>\n",
       "      <td>572.24</td>\n",
       "      <td>0.0</td>\n",
       "      <td>NaN</td>\n",
       "      <td>04</td>\n",
       "      <td>04</td>\n",
       "      <td>Cuenta Insuficiencia Fondos</td>\n",
       "    </tr>\n",
       "    <tr>\n",
       "      <th>4</th>\n",
       "      <td>100613</td>\n",
       "      <td>113755</td>\n",
       "      <td>27169948</td>\n",
       "      <td>2</td>\n",
       "      <td>340.62</td>\n",
       "      <td>340.62</td>\n",
       "      <td>0.0</td>\n",
       "      <td>NaN</td>\n",
       "      <td>04</td>\n",
       "      <td>04</td>\n",
       "      <td>Cuenta Insuficiencia Fondos</td>\n",
       "    </tr>\n",
       "    <tr>\n",
       "      <th>...</th>\n",
       "      <td>...</td>\n",
       "      <td>...</td>\n",
       "      <td>...</td>\n",
       "      <td>...</td>\n",
       "      <td>...</td>\n",
       "      <td>...</td>\n",
       "      <td>...</td>\n",
       "      <td>...</td>\n",
       "      <td>...</td>\n",
       "      <td>...</td>\n",
       "      <td>...</td>\n",
       "    </tr>\n",
       "    <tr>\n",
       "      <th>10057435</th>\n",
       "      <td>162271</td>\n",
       "      <td>741795</td>\n",
       "      <td>44299050</td>\n",
       "      <td>2</td>\n",
       "      <td>980.32</td>\n",
       "      <td>980.32</td>\n",
       "      <td>0.0</td>\n",
       "      <td>NaN</td>\n",
       "      <td>4.0</td>\n",
       "      <td>NaN</td>\n",
       "      <td>NaN</td>\n",
       "    </tr>\n",
       "    <tr>\n",
       "      <th>10057436</th>\n",
       "      <td>162271</td>\n",
       "      <td>741795</td>\n",
       "      <td>44299051</td>\n",
       "      <td>2</td>\n",
       "      <td>1633.86</td>\n",
       "      <td>1633.86</td>\n",
       "      <td>0.0</td>\n",
       "      <td>NaN</td>\n",
       "      <td>4.0</td>\n",
       "      <td>NaN</td>\n",
       "      <td>NaN</td>\n",
       "    </tr>\n",
       "    <tr>\n",
       "      <th>10057437</th>\n",
       "      <td>162271</td>\n",
       "      <td>742470</td>\n",
       "      <td>44299052</td>\n",
       "      <td>2</td>\n",
       "      <td>810.44</td>\n",
       "      <td>810.44</td>\n",
       "      <td>0.0</td>\n",
       "      <td>NaN</td>\n",
       "      <td>4.0</td>\n",
       "      <td>NaN</td>\n",
       "      <td>NaN</td>\n",
       "    </tr>\n",
       "    <tr>\n",
       "      <th>10057438</th>\n",
       "      <td>162271</td>\n",
       "      <td>742470</td>\n",
       "      <td>44299053</td>\n",
       "      <td>2</td>\n",
       "      <td>1350.74</td>\n",
       "      <td>1350.74</td>\n",
       "      <td>0.0</td>\n",
       "      <td>NaN</td>\n",
       "      <td>4.0</td>\n",
       "      <td>NaN</td>\n",
       "      <td>NaN</td>\n",
       "    </tr>\n",
       "    <tr>\n",
       "      <th>10057439</th>\n",
       "      <td>162271</td>\n",
       "      <td>742470</td>\n",
       "      <td>44299054</td>\n",
       "      <td>2</td>\n",
       "      <td>540.30</td>\n",
       "      <td>540.30</td>\n",
       "      <td>0.0</td>\n",
       "      <td>NaN</td>\n",
       "      <td>4.0</td>\n",
       "      <td>NaN</td>\n",
       "      <td>NaN</td>\n",
       "    </tr>\n",
       "  </tbody>\n",
       "</table>\n",
       "<p>10057440 rows × 11 columns</p>\n",
       "</div>"
      ],
      "text/plain": [
       "          idListaCobro  idCredito  consecutivoCobro  idBanco  montoExigible  \\\n",
       "0               100613      83021          27169966        2         572.24   \n",
       "1               100613      87227          27169937        2         517.74   \n",
       "2               100613     103785          27169946        2         681.23   \n",
       "3               100613     110463          27169969        2         572.24   \n",
       "4               100613     113755          27169948        2         340.62   \n",
       "...                ...        ...               ...      ...            ...   \n",
       "10057435        162271     741795          44299050        2         980.32   \n",
       "10057436        162271     741795          44299051        2        1633.86   \n",
       "10057437        162271     742470          44299052        2         810.44   \n",
       "10057438        162271     742470          44299053        2        1350.74   \n",
       "10057439        162271     742470          44299054        2         540.30   \n",
       "\n",
       "          montoCobrar  montoCobrado fechaCobroBanco idRespuestaBanco  \\\n",
       "0              572.24           0.0             NaN               04   \n",
       "1              517.74           0.0             NaN               04   \n",
       "2              681.23           0.0             NaN               04   \n",
       "3              572.24           0.0             NaN               04   \n",
       "4              340.62           0.0             NaN               04   \n",
       "...               ...           ...             ...              ...   \n",
       "10057435       980.32           0.0             NaN              4.0   \n",
       "10057436      1633.86           0.0             NaN              4.0   \n",
       "10057437       810.44           0.0             NaN              4.0   \n",
       "10057438      1350.74           0.0             NaN              4.0   \n",
       "10057439       540.30           0.0             NaN              4.0   \n",
       "\n",
       "         IdRespuestaBanco                  Descripcion  \n",
       "0                      04  Cuenta Insuficiencia Fondos  \n",
       "1                      04  Cuenta Insuficiencia Fondos  \n",
       "2                      04  Cuenta Insuficiencia Fondos  \n",
       "3                      04  Cuenta Insuficiencia Fondos  \n",
       "4                      04  Cuenta Insuficiencia Fondos  \n",
       "...                   ...                          ...  \n",
       "10057435              NaN                          NaN  \n",
       "10057436              NaN                          NaN  \n",
       "10057437              NaN                          NaN  \n",
       "10057438              NaN                          NaN  \n",
       "10057439              NaN                          NaN  \n",
       "\n",
       "[10057440 rows x 11 columns]"
      ]
     },
     "execution_count": 56,
     "metadata": {},
     "output_type": "execute_result"
    }
   ],
   "source": [
    "df_detalle"
   ]
  }
 ],
 "metadata": {
  "kernelspec": {
   "display_name": "Python 3",
   "language": "python",
   "name": "python3"
  },
  "language_info": {
   "codemirror_mode": {
    "name": "ipython",
    "version": 3
   },
   "file_extension": ".py",
   "mimetype": "text/x-python",
   "name": "python",
   "nbconvert_exporter": "python",
   "pygments_lexer": "ipython3",
   "version": "3.11.5"
  }
 },
 "nbformat": 4,
 "nbformat_minor": 5
}
