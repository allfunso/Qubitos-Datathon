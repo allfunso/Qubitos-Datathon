{
 "cells": [
  {
   "cell_type": "code",
   "execution_count": 13,
   "id": "6a95848a",
   "metadata": {},
   "outputs": [],
   "source": [
    "import pandas as pd\n",
    "import glob\n",
    "import os"
   ]
  },
  {
   "cell_type": "markdown",
   "id": "55b30697",
   "metadata": {},
   "source": [
    "Juntar todos los años"
   ]
  },
  {
   "cell_type": "code",
   "execution_count": 14,
   "id": "44a790b4",
   "metadata": {},
   "outputs": [
    {
     "name": "stderr",
     "output_type": "stream",
     "text": [
      "C:\\Users\\conej\\AppData\\Local\\Temp\\ipykernel_12336\\3647624057.py:8: DtypeWarning: Columns (8) have mixed types. Specify dtype option on import or set low_memory=False.\n",
      "  df_detalle = pd.concat([pd.read_csv(archivo) for archivo in archivos], ignore_index=True)\n"
     ]
    }
   ],
   "source": [
    "# Ruta a la carpeta que contiene los archivos\n",
    "ruta = 'Data/ExtraccionDomiVersionFinal/'\n",
    "\n",
    "# Obtener todos los archivos que coincidan con el patrón\n",
    "archivos = glob.glob(os.path.join(ruta, 'ListaCobroDetalle20*.csv'))\n",
    "\n",
    "# Leer y concatenar todos los archivos en un solo DataFrame\n",
    "df_detalle = pd.concat([pd.read_csv(archivo) for archivo in archivos], ignore_index=True)\n",
    "\n",
    "# Verificar las primeras filas del DataFrame consolidado\n",
    "# print(df_detalle.head())\n"
   ]
  },
  {
   "cell_type": "code",
   "execution_count": 15,
   "id": "86a48afa",
   "metadata": {},
   "outputs": [],
   "source": [
    "# Cargar catálogos\n",
    "cat_banco = pd.read_csv(os.path.join(ruta, 'CatBanco.csv'), sep='\\t')\n",
    "cat_emisora = pd.read_csv(os.path.join(ruta, 'CatEmisora.csv'), sep='\\t')\n",
    "# cat_respuesta = pd.read_csv(os.path.join(ruta, 'CatRespuestaBancos.csv'), sep='\\t')\n",
    "cat_respuesta = pd.read_csv('Data\\ExtraccionDomiVersionFinal\\CatRespuestaBancos.csv', sep=',', engine='python')\n"
   ]
  },
  {
   "cell_type": "code",
   "execution_count": 16,
   "id": "c12ccef3",
   "metadata": {},
   "outputs": [
    {
     "name": "stdout",
     "output_type": "stream",
     "text": [
      "           montoExigible  montoCobrar  montoCobrado  num_cobros\n",
      "idCredito                                                      \n",
      "6                 375.47       375.47           0.0           2\n",
      "560               572.44       572.44           0.0           1\n",
      "773               391.12       391.12           0.0           2\n",
      "1154               92.73        92.73           0.0           2\n",
      "1315              375.47       375.47           0.0           2\n"
     ]
    }
   ],
   "source": [
    "# Agrupar por idCredito y aplicar funciones personalizadas\n",
    "estadisticas = df_detalle.groupby('idCredito').agg({\n",
    "    'montoExigible': lambda x: x.unique().sum(),\n",
    "    'montoCobrar':   lambda x: x.unique().sum(),\n",
    "    'montoCobrado':  'sum',  # aquí sí queremos el total cobrado\n",
    "    'idListaCobro':  'count',\n",
    "}).rename(columns={'idListaCobro': 'num_cobros'})\n",
    "\n",
    "# Verificar las estadísticas calculadas\n",
    "print(estadisticas.head())\n"
   ]
  },
  {
   "cell_type": "code",
   "execution_count": 17,
   "id": "82d1dcc5",
   "metadata": {},
   "outputs": [
    {
     "name": "stdout",
     "output_type": "stream",
     "text": [
      "   idCredito idRespuestaBanco                  Descripcion\n",
      "0      83021               04  Cuenta Insuficiencia Fondos\n",
      "1      87227               04  Cuenta Insuficiencia Fondos\n",
      "2     103785               04  Cuenta Insuficiencia Fondos\n",
      "3     110463               04  Cuenta Insuficiencia Fondos\n",
      "4     113755               04  Cuenta Insuficiencia Fondos\n"
     ]
    }
   ],
   "source": [
    "# Unir con el catálogo de respuestas de bancos\n",
    "df_detalle = df_detalle.merge(cat_respuesta, how='left', left_on='idRespuestaBanco', right_on='IdRespuestaBanco')\n",
    "\n",
    "# Verificar las primeras filas después de la unión\n",
    "print(df_detalle[['idCredito', 'idRespuestaBanco', 'Descripcion']].head())\n"
   ]
  },
  {
   "cell_type": "markdown",
   "id": "c41e083d",
   "metadata": {},
   "source": [
    "Estadística solo con montos pagados"
   ]
  },
  {
   "cell_type": "code",
   "execution_count": 18,
   "id": "7894e134",
   "metadata": {},
   "outputs": [],
   "source": [
    "estadistica_final = estadisticas[estadisticas['montoCobrado'] > 0]"
   ]
  },
  {
   "cell_type": "code",
   "execution_count": 19,
   "id": "fc1e3b82",
   "metadata": {},
   "outputs": [],
   "source": [
    "estadistica_final = estadisticas[estadisticas['montoCobrado'] > 0].copy()\n",
    "estadistica_final['porcentaje_pagado'] = (\n",
    "    estadistica_final['montoCobrado'] / estadistica_final['montoExigible']\n",
    ") * 100"
   ]
  },
  {
   "cell_type": "code",
   "execution_count": 20,
   "id": "8eabeeef",
   "metadata": {},
   "outputs": [
    {
     "name": "stdout",
     "output_type": "stream",
     "text": [
      "           montoExigible  montoCobrado  porcentaje_pagado\n",
      "idCredito                                                \n",
      "4635              613.82        480.39          78.262357\n",
      "4914              969.96        384.98          39.690297\n",
      "10983            3009.51       6019.02         200.000000\n",
      "17740             529.93       1589.79         300.000000\n",
      "18720             433.09        433.09         100.000000\n"
     ]
    }
   ],
   "source": [
    "print(estadistica_final[['montoExigible', 'montoCobrado', 'porcentaje_pagado']].head())\n"
   ]
  },
  {
   "cell_type": "code",
   "execution_count": 21,
   "id": "f9bf11d9",
   "metadata": {},
   "outputs": [
    {
     "name": "stdout",
     "output_type": "stream",
     "text": [
      "99704761.66\n",
      "306253237.55\n",
      "368.05646281502464\n"
     ]
    }
   ],
   "source": [
    "print(estadistica_final['montoExigible'].sum())\n",
    "print(estadistica_final['montoCobrado'].sum())\n",
    "print(estadistica_final['porcentaje_pagado'].mean())"
   ]
  },
  {
   "cell_type": "code",
   "execution_count": 22,
   "id": "d2d96fc9",
   "metadata": {},
   "outputs": [
    {
     "name": "stdout",
     "output_type": "stream",
     "text": [
      "idRespuestaBanco\n",
      "4.0        8980842\n",
      "04          493339\n",
      "0.0         275317\n",
      "DD00031      40128\n",
      "13.0         33864\n",
      "00           18586\n",
      "26.0         14859\n",
      "2.0           9090\n",
      "8.0           8374\n",
      "3.0           6175\n",
      "1.0           5087\n",
      "08            4973\n",
      "DD00020       3411\n",
      "26            2290\n",
      "DD00028       1824\n",
      "DD00021       1542\n",
      "30.0          1473\n",
      "36.0          1343\n",
      "13            1149\n",
      "03             960\n",
      "02             865\n",
      "30             579\n",
      "01             358\n",
      "40.0           312\n",
      "INC9           292\n",
      "INC16          267\n",
      "19.0           205\n",
      "DD00041         87\n",
      "DD00033         82\n",
      "88.0            64\n",
      "42.0            37\n",
      "10.0            29\n",
      "19              23\n",
      "10               8\n",
      "88               7\n",
      "84.0             7\n",
      "DD00042          6\n",
      "40               5\n",
      "42               5\n",
      "36               5\n",
      "18.0             5\n",
      "6.0              2\n",
      "53               1\n",
      "83               1\n",
      "37.0             1\n",
      "Name: count, dtype: int64\n"
     ]
    }
   ],
   "source": [
    "conteo_respuestas = df_detalle['idRespuestaBanco'].value_counts()\n",
    "print(conteo_respuestas)\n"
   ]
  },
  {
   "cell_type": "code",
   "execution_count": 24,
   "id": "ea3496e2",
   "metadata": {},
   "outputs": [
    {
     "name": "stdout",
     "output_type": "stream",
     "text": [
      "IdRespuestaBanco\n",
      "00         1\n",
      "DD00025    1\n",
      "DOM5       1\n",
      "DOM4       1\n",
      "DOM3       1\n",
      "          ..\n",
      "83         1\n",
      "82         1\n",
      "81         1\n",
      "53         1\n",
      "DD00043    1\n",
      "Name: count, Length: 105, dtype: int64\n"
     ]
    }
   ],
   "source": [
    "print(cat_respuesta['IdRespuestaBanco'].value_counts())"
   ]
  }
 ],
 "metadata": {
  "kernelspec": {
   "display_name": "Python 3",
   "language": "python",
   "name": "python3"
  },
  "language_info": {
   "codemirror_mode": {
    "name": "ipython",
    "version": 3
   },
   "file_extension": ".py",
   "mimetype": "text/x-python",
   "name": "python",
   "nbconvert_exporter": "python",
   "pygments_lexer": "ipython3",
   "version": "3.11.5"
  }
 },
 "nbformat": 4,
 "nbformat_minor": 5
}
