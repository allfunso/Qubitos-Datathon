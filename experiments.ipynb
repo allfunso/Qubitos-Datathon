{
 "cells": [
  {
   "cell_type": "markdown",
   "id": "298ff5c3",
   "metadata": {},
   "source": [
    "# Experimentos\n",
    "ASALKSDJLKJ"
   ]
  },
  {
   "cell_type": "code",
   "execution_count": 1,
   "id": "ff157c65",
   "metadata": {},
   "outputs": [],
   "source": [
    "import numpy as np\n",
    "import pandas as pd\n",
    "import matplotlib.pyplot as plt"
   ]
  },
  {
   "cell_type": "code",
   "execution_count": null,
   "id": "94c5ca46",
   "metadata": {},
   "outputs": [],
   "source": []
  }
 ],
 "metadata": {
  "kernelspec": {
   "display_name": "Python 3",
   "language": "python",
   "name": "python3"
  },
  "language_info": {
   "codemirror_mode": {
    "name": "ipython",
    "version": 3
   },
   "file_extension": ".py",
   "mimetype": "text/x-python",
   "name": "python",
   "nbconvert_exporter": "python",
   "pygments_lexer": "ipython3",
   "version": "3.12.3"
  }
 },
 "nbformat": 4,
 "nbformat_minor": 5
}
