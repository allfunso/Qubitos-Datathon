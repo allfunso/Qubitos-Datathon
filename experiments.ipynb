{
 "cells": [
  {
   "cell_type": "markdown",
   "id": "298ff5c3",
   "metadata": {},
   "source": [
    "# Experimentos\n",
    "ASALKSDJLKJ"
   ]
  },
  {
   "cell_type": "code",
   "execution_count": 1,
   "id": "ff157c65",
   "metadata": {},
   "outputs": [],
   "source": [
    "import numpy as np\n",
    "import pandas as pd\n",
    "import matplotlib.pyplot as plt"
   ]
  },
  {
   "cell_type": "code",
   "execution_count": null,
   "id": "94c5ca46",
   "metadata": {},
   "outputs": [
    {
     "name": "stderr",
     "output_type": "stream",
     "text": [
      "/tmp/ipykernel_21852/3077407043.py:10: DtypeWarning: Columns (8) have mixed types. Specify dtype option on import or set low_memory=False.\n",
      "  df_2023 = pd.read_csv(\"data/ExtraccionDomiVersionFinal/ListaCobroDetalle2023.csv\")\n"
     ]
    }
   ],
   "source": [
    "# Dataframes complementarios (Traducción de IDs)                                         # 1ra Columna   -> Resto de columnas\n",
    "df_id_banco = pd.read_csv(\"data/ExtraccionDomiVersionFinal/CatBanco.csv\")                # ID Banco      -> Nombre del banco\n",
    "df_id_emisora = pd.read_csv(\"data/ExtraccionDomiVersionFinal/CatEmisora.csv\")            # ID Emisora    -> Nombre Emisora, ID Banco, Emisora??, Tipo envío\n",
    "df_id_respuesta = pd.read_csv(\"data/ExtraccionDomiVersionFinal/CatRespuestaBancos.csv\")  # ID Respuesta  -> Descripción\n",
    "df_id_listacobro = pd.read_csv(\"data/ExtraccionDomiVersionFinal/ListaCobro.csv\")         # ID ListaCobro -> Fecha creación, ID Banco, Fecha envío\n",
    "df_id_listaemisor = pd.read_csv(\"data/ExtraccionDomiVersionFinal/ListaCobroEmisora.csv\") # ID ListaCobro -> ID Emisora\n",
    "\n",
    "# Dataframes detallados por año\n",
    "df_2022 = pd.read_csv(\"data/ExtraccionDomiVersionFinal/ListaCobroDetalle2022.csv\")\n",
    "df_2023 = pd.read_csv(\"data/ExtraccionDomiVersionFinal/ListaCobroDetalle2023.csv\")\n",
    "df_2024 = pd.read_csv(\"data/ExtraccionDomiVersionFinal/ListaCobroDetalle2024.csv\")\n",
    "df_2025 = pd.read_csv(\"data/ExtraccionDomiVersionFinal/ListaCobroDetalle2025.csv\")"
   ]
  },
  {
   "cell_type": "code",
   "execution_count": 9,
   "id": "d9d0ed5d",
   "metadata": {},
   "outputs": [
    {
     "name": "stdout",
     "output_type": "stream",
     "text": [
      "<class 'pandas.core.frame.DataFrame'>\n",
      "RangeIndex: 10057440 entries, 0 to 10057439\n",
      "Data columns (total 9 columns):\n",
      " #   Column            Dtype  \n",
      "---  ------            -----  \n",
      " 0   idListaCobro      int64  \n",
      " 1   idCredito         int64  \n",
      " 2   consecutivoCobro  int64  \n",
      " 3   idBanco           int64  \n",
      " 4   montoExigible     float64\n",
      " 5   montoCobrar       float64\n",
      " 6   montoCobrado      float64\n",
      " 7   fechaCobroBanco   object \n",
      " 8   idRespuestaBanco  object \n",
      "dtypes: float64(3), int64(4), object(2)\n",
      "memory usage: 690.6+ MB\n",
      "None\n"
     ]
    }
   ],
   "source": [
    "cobros_detallados = pd.concat([df_2022, df_2023, df_2024, df_2025], ignore_index=True)\n",
    "\n",
    "print(cobros_detallados.info())"
   ]
  },
  {
   "cell_type": "code",
   "execution_count": null,
   "id": "bcbf0a33",
   "metadata": {},
   "outputs": [],
   "source": []
  }
 ],
 "metadata": {
  "kernelspec": {
   "display_name": "Python 3",
   "language": "python",
   "name": "python3"
  },
  "language_info": {
   "codemirror_mode": {
    "name": "ipython",
    "version": 3
   },
   "file_extension": ".py",
   "mimetype": "text/x-python",
   "name": "python",
   "nbconvert_exporter": "python",
   "pygments_lexer": "ipython3",
   "version": "3.12.3"
  }
 },
 "nbformat": 4,
 "nbformat_minor": 5
}
