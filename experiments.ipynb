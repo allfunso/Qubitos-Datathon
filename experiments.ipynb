{
 "cells": [
  {
   "cell_type": "markdown",
   "id": "298ff5c3",
   "metadata": {},
   "source": [
    "# Experimentos\n",
    "ASALKSDJLKJ"
   ]
  },
  {
   "cell_type": "code",
   "execution_count": 1,
   "id": "ff157c65",
   "metadata": {},
   "outputs": [],
   "source": [
    "import numpy as np\n",
    "import pandas as pd\n",
    "import matplotlib.pyplot as plt"
   ]
  },
  {
   "cell_type": "code",
   "execution_count": null,
   "id": "94c5ca46",
   "metadata": {},
   "outputs": [],
   "source": [
    "# Dataframes complementarios (Traducción de IDs)              # 1ra Columna   -> Resto de columnas\n",
    "df_id_banco = pd.read_csv(\"data/CatBanco.csv\")                # ID Banco      -> Nombre del banco\n",
    "df_id_emisora = pd.read_csv(\"data/CatEmisora.csv\")            # ID Emisora    -> Nombre Emisora, ID Banco, Emisora??, Tipo envío\n",
    "df_id_respuesta = pd.read_csv(\"data/CatRespuestaBancos.csv\")  # ID Respuesta  -> Descripción\n",
    "df_id_listacobro = pd.read_csv(\"data/ListaCobro.csv\")         # ID ListaCobro -> Fecha creación, ID Banco, Fecha envío\n",
    "df_id_listaemisor = pd.read_csv(\"data/ListaCobroEmisora.csv\") # ID ListaCobro -> ID Emisora\n",
    "\n",
    "# Dataframes detallados por año\n",
    "df_2022 = pd.read_csv(\"data/ListaCobroDetalle2022.csv\")\n",
    "df_2023 = pd.read_csv(\"data/ListaCobroDetalle2023.csv\")\n",
    "df_2024 = pd.read_csv(\"data/ListaCobroDetalle2024.csv\")\n",
    "df_2025 = pd.read_csv(\"data/ListaCobroDetalle2025.csv\")\n",
    "\n"
   ]
  }
 ],
 "metadata": {
  "kernelspec": {
   "display_name": "Python 3",
   "language": "python",
   "name": "python3"
  },
  "language_info": {
   "codemirror_mode": {
    "name": "ipython",
    "version": 3
   },
   "file_extension": ".py",
   "mimetype": "text/x-python",
   "name": "python",
   "nbconvert_exporter": "python",
   "pygments_lexer": "ipython3",
   "version": "3.12.3"
  }
 },
 "nbformat": 4,
 "nbformat_minor": 5
}
