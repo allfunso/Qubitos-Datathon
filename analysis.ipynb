{
 "cells": [
  {
   "cell_type": "code",
   "execution_count": 1,
   "id": "63069682",
   "metadata": {},
   "outputs": [],
   "source": [
    "import pandas as pd\n",
    "import glob\n",
    "import os"
   ]
  },
  {
   "cell_type": "markdown",
   "id": "586dd27f",
   "metadata": {},
   "source": [
    "# Con esto se hace merge"
   ]
  },
  {
   "cell_type": "code",
   "execution_count": 2,
   "id": "ad619510",
   "metadata": {},
   "outputs": [
    {
     "name": "stderr",
     "output_type": "stream",
     "text": [
      "C:\\Users\\conej\\AppData\\Local\\Temp\\ipykernel_29112\\3636483435.py:8: DtypeWarning: Columns (8) have mixed types. Specify dtype option on import or set low_memory=False.\n",
      "  df_detalle = pd.concat([pd.read_csv(archivo) for archivo in archivos], ignore_index=True)\n"
     ]
    }
   ],
   "source": [
    "# Ruta a la carpeta que contiene los archivos\n",
    "ruta = 'Data/ExtraccionDomiVersionFinal/'\n",
    "\n",
    "# Obtener todos los archivos que coincidan con el patrón\n",
    "archivos = glob.glob(os.path.join(ruta, 'ListaCobroDetalle20*.csv'))\n",
    "\n",
    "# Leer y concatenar todos los archivos en un solo DataFrame\n",
    "df_detalle = pd.concat([pd.read_csv(archivo) for archivo in archivos], ignore_index=True)\n",
    "\n",
    "df_lista = pd.read_csv(os.path.join(ruta, 'ListaCobro.csv'))\n",
    "df_emisora = pd.read_csv(os.path.join(ruta, 'ListaCobroEmisora.csv'))\n",
    "df_creditos = pd.read_csv(os.path.join(ruta, 'Capital_Pagare_FechaAperturaCredito.csv'))"
   ]
  },
  {
   "cell_type": "code",
   "execution_count": 3,
   "id": "12f44d38",
   "metadata": {},
   "outputs": [],
   "source": [
    "df_detalle = df_detalle.merge(\n",
    "    df_lista[['idListaCobro', 'fechaEnvioCobro']],\n",
    "    on='idListaCobro',\n",
    "    how='left'\n",
    ")\n",
    "\n",
    "df_detalle = df_detalle.merge(\n",
    "    df_emisora[['idListaCobro', 'idEmisora']],\n",
    "    on='idListaCobro',\n",
    "    how='left'\n",
    ")\n",
    "\n",
    "df_detalle = df_detalle.merge(\n",
    "    df_creditos[['idcredito', 'pagare', 'capital', 'fechaAperturaCredito']],\n",
    "    left_on='idCredito',\n",
    "    right_on='idcredito',\n",
    "    how='left'\n",
    ")\n",
    "\n",
    "df_detalle.drop(columns='idcredito', inplace=True)\n"
   ]
  },
  {
   "cell_type": "code",
   "execution_count": 4,
   "id": "ede4046b",
   "metadata": {},
   "outputs": [
    {
     "data": {
      "text/html": [
       "<div>\n",
       "<style scoped>\n",
       "    .dataframe tbody tr th:only-of-type {\n",
       "        vertical-align: middle;\n",
       "    }\n",
       "\n",
       "    .dataframe tbody tr th {\n",
       "        vertical-align: top;\n",
       "    }\n",
       "\n",
       "    .dataframe thead th {\n",
       "        text-align: right;\n",
       "    }\n",
       "</style>\n",
       "<table border=\"1\" class=\"dataframe\">\n",
       "  <thead>\n",
       "    <tr style=\"text-align: right;\">\n",
       "      <th></th>\n",
       "      <th>idListaCobro</th>\n",
       "      <th>idCredito</th>\n",
       "      <th>consecutivoCobro</th>\n",
       "      <th>idBanco</th>\n",
       "      <th>montoExigible</th>\n",
       "      <th>montoCobrar</th>\n",
       "      <th>montoCobrado</th>\n",
       "      <th>fechaCobroBanco</th>\n",
       "      <th>idRespuestaBanco</th>\n",
       "      <th>fechaEnvioCobro</th>\n",
       "      <th>idEmisora</th>\n",
       "      <th>pagare</th>\n",
       "      <th>capital</th>\n",
       "      <th>fechaAperturaCredito</th>\n",
       "    </tr>\n",
       "  </thead>\n",
       "  <tbody>\n",
       "    <tr>\n",
       "      <th>0</th>\n",
       "      <td>100613</td>\n",
       "      <td>83021</td>\n",
       "      <td>27169966</td>\n",
       "      <td>2</td>\n",
       "      <td>572.24</td>\n",
       "      <td>572.24</td>\n",
       "      <td>0.0</td>\n",
       "      <td>NaN</td>\n",
       "      <td>04</td>\n",
       "      <td>30/09/2022</td>\n",
       "      <td>51</td>\n",
       "      <td>44634.33</td>\n",
       "      <td>21000.0</td>\n",
       "      <td>30/12/2013</td>\n",
       "    </tr>\n",
       "    <tr>\n",
       "      <th>1</th>\n",
       "      <td>100613</td>\n",
       "      <td>87227</td>\n",
       "      <td>27169937</td>\n",
       "      <td>2</td>\n",
       "      <td>517.74</td>\n",
       "      <td>517.74</td>\n",
       "      <td>0.0</td>\n",
       "      <td>NaN</td>\n",
       "      <td>04</td>\n",
       "      <td>30/09/2022</td>\n",
       "      <td>51</td>\n",
       "      <td>40383.33</td>\n",
       "      <td>19000.0</td>\n",
       "      <td>12/02/2014</td>\n",
       "    </tr>\n",
       "    <tr>\n",
       "      <th>2</th>\n",
       "      <td>100613</td>\n",
       "      <td>103785</td>\n",
       "      <td>27169946</td>\n",
       "      <td>2</td>\n",
       "      <td>681.23</td>\n",
       "      <td>681.23</td>\n",
       "      <td>0.0</td>\n",
       "      <td>NaN</td>\n",
       "      <td>04</td>\n",
       "      <td>30/09/2022</td>\n",
       "      <td>51</td>\n",
       "      <td>53135.94</td>\n",
       "      <td>25000.0</td>\n",
       "      <td>19/02/2014</td>\n",
       "    </tr>\n",
       "    <tr>\n",
       "      <th>3</th>\n",
       "      <td>100613</td>\n",
       "      <td>110463</td>\n",
       "      <td>27169969</td>\n",
       "      <td>2</td>\n",
       "      <td>572.24</td>\n",
       "      <td>572.24</td>\n",
       "      <td>0.0</td>\n",
       "      <td>NaN</td>\n",
       "      <td>04</td>\n",
       "      <td>30/09/2022</td>\n",
       "      <td>51</td>\n",
       "      <td>44634.33</td>\n",
       "      <td>21000.0</td>\n",
       "      <td>26/02/2014</td>\n",
       "    </tr>\n",
       "    <tr>\n",
       "      <th>4</th>\n",
       "      <td>100613</td>\n",
       "      <td>113755</td>\n",
       "      <td>27169948</td>\n",
       "      <td>2</td>\n",
       "      <td>340.62</td>\n",
       "      <td>340.62</td>\n",
       "      <td>0.0</td>\n",
       "      <td>NaN</td>\n",
       "      <td>04</td>\n",
       "      <td>30/09/2022</td>\n",
       "      <td>51</td>\n",
       "      <td>26567.97</td>\n",
       "      <td>12500.0</td>\n",
       "      <td>21/03/2014</td>\n",
       "    </tr>\n",
       "  </tbody>\n",
       "</table>\n",
       "</div>"
      ],
      "text/plain": [
       "   idListaCobro  idCredito  consecutivoCobro  idBanco  montoExigible  \\\n",
       "0        100613      83021          27169966        2         572.24   \n",
       "1        100613      87227          27169937        2         517.74   \n",
       "2        100613     103785          27169946        2         681.23   \n",
       "3        100613     110463          27169969        2         572.24   \n",
       "4        100613     113755          27169948        2         340.62   \n",
       "\n",
       "   montoCobrar  montoCobrado fechaCobroBanco idRespuestaBanco fechaEnvioCobro  \\\n",
       "0       572.24           0.0             NaN               04      30/09/2022   \n",
       "1       517.74           0.0             NaN               04      30/09/2022   \n",
       "2       681.23           0.0             NaN               04      30/09/2022   \n",
       "3       572.24           0.0             NaN               04      30/09/2022   \n",
       "4       340.62           0.0             NaN               04      30/09/2022   \n",
       "\n",
       "   idEmisora    pagare  capital fechaAperturaCredito  \n",
       "0         51  44634.33  21000.0           30/12/2013  \n",
       "1         51  40383.33  19000.0           12/02/2014  \n",
       "2         51  53135.94  25000.0           19/02/2014  \n",
       "3         51  44634.33  21000.0           26/02/2014  \n",
       "4         51  26567.97  12500.0           21/03/2014  "
      ]
     },
     "execution_count": 4,
     "metadata": {},
     "output_type": "execute_result"
    }
   ],
   "source": [
    "df_detalle.to_csv('Data/ExtraccionDomiVersionFinal/ListaCobroDetalleFinal.csv', index=False)\n",
    "df_detalle.head()"
   ]
  },
  {
   "cell_type": "markdown",
   "id": "5eb7b8b7",
   "metadata": {},
   "source": [
    "# Aquí esa el merge"
   ]
  },
  {
   "cell_type": "markdown",
   "id": "4c4e9ab5",
   "metadata": {},
   "source": [
    "Reiniciar y solo leer un dataframe"
   ]
  },
  {
   "cell_type": "code",
   "execution_count": 5,
   "id": "b93ad714",
   "metadata": {},
   "outputs": [
    {
     "name": "stderr",
     "output_type": "stream",
     "text": [
      "C:\\Users\\conej\\AppData\\Local\\Temp\\ipykernel_29112\\2748886643.py:3: DtypeWarning: Columns (8) have mixed types. Specify dtype option on import or set low_memory=False.\n",
      "  df_lista = pd.read_csv(os.path.join(ruta, 'ListaCobroDetalleFinal.csv'))\n"
     ]
    }
   ],
   "source": [
    "# Ruta a la carpeta que contiene los archivos\n",
    "ruta = 'Data/ExtraccionDomiVersionFinal/'\n",
    "df_lista = pd.read_csv(os.path.join(ruta, 'ListaCobroDetalleFinal.csv'))"
   ]
  }
 ],
 "metadata": {
  "kernelspec": {
   "display_name": "Python 3",
   "language": "python",
   "name": "python3"
  },
  "language_info": {
   "codemirror_mode": {
    "name": "ipython",
    "version": 3
   },
   "file_extension": ".py",
   "mimetype": "text/x-python",
   "name": "python",
   "nbconvert_exporter": "python",
   "pygments_lexer": "ipython3",
   "version": "3.11.5"
  }
 },
 "nbformat": 4,
 "nbformat_minor": 5
}
