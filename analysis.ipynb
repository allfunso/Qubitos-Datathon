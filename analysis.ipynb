{
 "cells": [
  {
   "cell_type": "code",
   "execution_count": null,
   "id": "63069682",
   "metadata": {},
   "outputs": [],
   "source": [
    "import pandas as pd\n",
    "import glob\n",
    "import os"
   ]
  },
  {
   "cell_type": "code",
   "execution_count": null,
   "id": "ad619510",
   "metadata": {},
   "outputs": [],
   "source": [
    "# Ruta a la carpeta que contiene los archivos\n",
    "ruta = 'Data/ExtraccionDomiVersionFinal/'\n",
    "\n",
    "# Obtener todos los archivos que coincidan con el patrón\n",
    "archivos = glob.glob(os.path.join(ruta, 'ListaCobroDetalle20*.csv'))\n",
    "\n",
    "# Leer y concatenar todos los archivos en un solo DataFrame\n",
    "df_detalle = pd.concat([pd.read_csv(archivo) for archivo in archivos], ignore_index=True)"
   ]
  }
 ],
 "metadata": {
  "language_info": {
   "name": "python"
  }
 },
 "nbformat": 4,
 "nbformat_minor": 5
}
