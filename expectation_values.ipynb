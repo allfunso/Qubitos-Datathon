{
 "cells": [
  {
   "cell_type": "markdown",
   "id": "48a460a8",
   "metadata": {},
   "source": [
    "# Calculate expectation value of collection order"
   ]
  },
  {
   "cell_type": "code",
   "execution_count": 3,
   "id": "e54a00db",
   "metadata": {},
   "outputs": [],
   "source": [
    "import numpy as np\n",
    "import pandas as pd\n",
    "import matplotlib.pyplot as plt\n",
    "import json"
   ]
  },
  {
   "cell_type": "markdown",
   "id": "626ed604",
   "metadata": {},
   "source": [
    "## Import data structures"
   ]
  },
  {
   "cell_type": "code",
   "execution_count": 4,
   "id": "a4022f1d",
   "metadata": {},
   "outputs": [],
   "source": [
    "# Load the cost structure\n",
    "with open('costos.json', 'r') as f:\n",
    "    costos = json.load(f)\n",
    "\n",
    "# Load the rate of success structure\n",
    "with open('tasa_pago_por_banco_y_metodo.json', 'r') as f:\n",
    "    tasas = json.load(f)\n"
   ]
  },
  {
   "cell_type": "code",
   "execution_count": 5,
   "id": "7a378836",
   "metadata": {},
   "outputs": [
    {
     "name": "stdout",
     "output_type": "stream",
     "text": [
      "dict_values([{'Cheques': 1.75, 'Tarjetas': 1.75, 'Interbancario': 1.75}, {'Cuentas': 2.37, 'Reintentos': 1.42, 'Interbancario': 2.58, 'H2H': 1.9}, {'Cuentas': 2.5, 'Interbancario': 4.5, 'Cobro especializado': 20.0}])\n",
      "dict_values([{'CLABE TRADICIONAL': 0.36852330186072824, 'EXCEPCIONES CUENTA': 0.3163866463015492, 'CUENTA TRADICIONAL': 0.20865284268796225, 'CUENTA EN LINEA': 0.0886214442013129, 'CLABE EN LINEA': 0.017596934402258863, 'TRADICIONAL REINTENTO': 0.0}, {'CLABE TRADICIONAL': 0.2931903932665796, 'EXCEPCIONES CUENTA': 0.0807028649804813, 'CUENTA': 0.05804623888107455}, {'CLABE TRADICIONAL': 0.24175838944213737, 'CUENTA PARCIAL': 0.2177348551360843, 'CLABE INTERBANCARIA': 0.15627953376036963, 'CUENTA TRADICIONAL': 0.136378502125804, 'CLABE PARCIAL': 0.05381991895521147, 'CUENTA MATUTINO': 0.049496476763757735, 'CLABE MATUTINO': 0.032545744502266244, 'CLABE EN LINEA': 0.024273336986284897, 'CUENTA EN LINEA': 0.02364230828248014, 'TRADICIONAL REINTENTO': 0.0057888468157725045}, {'PARCIAL CUENTA EXCEPCIONES': 0.2400559664201479, 'TRADICIONAL': 0.1704457614017006, 'REINTENTOS': 0.023678071539657855}, {'EXCEPCIONES TARJETA': 0.056910569105691054, 'EXCEPCIONES CUENTA': 0.028872958980485863, 'CUENTA': 0.02718294403511522, 'CLABE TRADICIONAL': 0.024205478363459647, 'TRADICIONAL REINTENTO': 0.017602524819273, 'REINTENTOS': 0.005860643456543122}])\n"
     ]
    }
   ],
   "source": [
    "print(costos.values())\n",
    "print(tasas.values())"
   ]
  },
  {
   "cell_type": "code",
   "execution_count": null,
   "id": "3be89fc2",
   "metadata": {},
   "outputs": [],
   "source": [
    "\n",
    "# Function to evaluate if an order is potentially profitable\n",
    "def es_potencial(banco, metodo, monto):\n",
    "    \n",
    "    try:\n",
    "        costo = costos[banco][metodo]\n",
    "        expected_value = tasa * monto\n",
    "        return expected_value > costo\n",
    "    except KeyError:\n",
    "        # If no matching cost found, return None or False\n",
    "        return None\n",
    "\n",
    "# Merge rate back into the main dataframe\n",
    "tasa_map = cobros_detallados.groupby('nombreEmisora')['pagado'].mean().to_dict()\n",
    "cobros_detallados['tasa_pago'] = cobros_detallados['nombreEmisora'].map(tasa_map)\n",
    "\n",
    "# Apply the evaluation\n",
    "cobros_detallados['potencial'] = cobros_detallados.apply(es_potencial, axis=1)"
   ]
  }
 ],
 "metadata": {
  "kernelspec": {
   "display_name": "Python 3",
   "language": "python",
   "name": "python3"
  },
  "language_info": {
   "codemirror_mode": {
    "name": "ipython",
    "version": 3
   },
   "file_extension": ".py",
   "mimetype": "text/x-python",
   "name": "python",
   "nbconvert_exporter": "python",
   "pygments_lexer": "ipython3",
   "version": "3.12.3"
  }
 },
 "nbformat": 4,
 "nbformat_minor": 5
}
