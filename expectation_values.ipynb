{
 "cells": [
  {
   "cell_type": "markdown",
   "id": "48a460a8",
   "metadata": {},
   "source": [
    "# Calculate expectation value of collection order"
   ]
  },
  {
   "cell_type": "code",
   "execution_count": 1,
   "id": "e54a00db",
   "metadata": {},
   "outputs": [],
   "source": [
    "import numpy as np\n",
    "import pandas as pd\n",
    "import matplotlib.pyplot as plt\n",
    "import json"
   ]
  },
  {
   "cell_type": "markdown",
   "id": "626ed604",
   "metadata": {},
   "source": [
    "## Import data structures"
   ]
  },
  {
   "cell_type": "code",
   "execution_count": 2,
   "id": "a4022f1d",
   "metadata": {},
   "outputs": [],
   "source": [
    "# Load the cost structure\n",
    "with open('costos.json', 'r') as f:\n",
    "    costos = json.load(f)\n",
    "\n",
    "# Load the rate of success structure\n",
    "with open('tasas_banco_metodo.json', 'r') as f:\n",
    "    tasas = json.load(f)\n"
   ]
  },
  {
   "cell_type": "code",
   "execution_count": null,
   "id": "3be89fc2",
   "metadata": {},
   "outputs": [],
   "source": [
    "# Function to evaluate if an order is potentially profitable\n",
    "def es_potencial(row):\n",
    "    monto = row['montoCobrar']\n",
    "    emisora_info = row['nombreEmisora'].split(maxsplit=1)\n",
    "    if len(emisora_info) < 2:\n",
    "        emisora_info = [row['nombreBanco'], 'default']\n",
    "    banco, emisora = emisora_info\n",
    "    metodo = \"default\"\n",
    "    \n",
    "    try:\n",
    "        costo = costos[banco][metodo]\n",
    "        tasa = tasas[banco][emisora]\n",
    "        expected_value = tasa * monto\n",
    "        return expected_value > costo\n",
    "    except KeyError:\n",
    "        # If no matching cost found, return None or False\n",
    "        return None\n"
   ]
  },
  {
   "cell_type": "code",
   "execution_count": 4,
   "id": "d9171c7f",
   "metadata": {},
   "outputs": [],
   "source": [
    "# Dataframes complementarios (Traducción de IDs)                                         # 1ra Columna   -> Resto de columnas\n",
    "df_id_emisora = pd.read_csv(\"data/ExtraccionDomiVersionFinal/CatEmisora.csv\")            # ID Emisora    -> Nombre Emisora, ID Banco, Emisora??, Tipo envío\n",
    "df_id_listaemisor = pd.read_csv(\"data/ExtraccionDomiVersionFinal/ListaCobroEmisora.csv\") # ID ListaCobro -> ID Emisora\n",
    "df_id_banco = pd.read_csv(\"data/ExtraccionDomiVersionFinal/CatBanco.csv\")                # ID Banco      -> Nombre del banco\n",
    "\n",
    "# Dataframes detallados por año\n",
    "df_2024 = pd.read_csv(\"data/ExtraccionDomiVersionFinal/ListaCobroDetalle2024.csv\")\n",
    "df_2025 = pd.read_csv(\"data/ExtraccionDomiVersionFinal/ListaCobroDetalle2025.csv\")\n"
   ]
  },
  {
   "cell_type": "code",
   "execution_count": 5,
   "id": "61a6896b",
   "metadata": {},
   "outputs": [],
   "source": [
    "cobros_detallados = pd.concat([df_2024, df_2025], ignore_index=True)\n"
   ]
  },
  {
   "cell_type": "code",
   "execution_count": 6,
   "id": "bec4773e",
   "metadata": {},
   "outputs": [],
   "source": [
    "# Standardize column names\n",
    "df_id_banco = df_id_banco.rename(columns={'IdBanco': 'idBanco', 'Nombre': 'nombreBanco'})\n",
    "df_id_emisora = df_id_emisora.rename(columns={'Nombre': 'nombreEmisora'})\n",
    "\n",
    "# Drop duplicated columns\n",
    "df_id_emisora = df_id_emisora.drop('IdBanco', axis=1)\n",
    "\n",
    "# Standardize emisora entries\n",
    "df_id_emisora['nombreEmisora'] = df_id_emisora['nombreEmisora'].str.strip()\n",
    "df_id_emisora['nombreEmisora'] = df_id_emisora['nombreEmisora'].str.upper()"
   ]
  },
  {
   "cell_type": "code",
   "execution_count": 7,
   "id": "075c7c83",
   "metadata": {},
   "outputs": [
    {
     "data": {
      "text/html": [
       "<div>\n",
       "<style scoped>\n",
       "    .dataframe tbody tr th:only-of-type {\n",
       "        vertical-align: middle;\n",
       "    }\n",
       "\n",
       "    .dataframe tbody tr th {\n",
       "        vertical-align: top;\n",
       "    }\n",
       "\n",
       "    .dataframe thead th {\n",
       "        text-align: right;\n",
       "    }\n",
       "</style>\n",
       "<table border=\"1\" class=\"dataframe\">\n",
       "  <thead>\n",
       "    <tr style=\"text-align: right;\">\n",
       "      <th></th>\n",
       "      <th>idListaCobro</th>\n",
       "      <th>idCredito</th>\n",
       "      <th>consecutivoCobro</th>\n",
       "      <th>idBanco</th>\n",
       "      <th>montoExigible</th>\n",
       "      <th>montoCobrar</th>\n",
       "      <th>montoCobrado</th>\n",
       "      <th>fechaCobroBanco</th>\n",
       "      <th>idRespuestaBanco</th>\n",
       "      <th>nombreBanco</th>\n",
       "      <th>idEmisora</th>\n",
       "      <th>nombreEmisora</th>\n",
       "      <th>Emisora</th>\n",
       "      <th>TipoEnvio</th>\n",
       "    </tr>\n",
       "  </thead>\n",
       "  <tbody>\n",
       "    <tr>\n",
       "      <th>0</th>\n",
       "      <td>139345</td>\n",
       "      <td>85784</td>\n",
       "      <td>35530241</td>\n",
       "      <td>12</td>\n",
       "      <td>539.53</td>\n",
       "      <td>539.53</td>\n",
       "      <td>0.0</td>\n",
       "      <td>NaN</td>\n",
       "      <td>4.0</td>\n",
       "      <td>BBVA MEXICO</td>\n",
       "      <td>6</td>\n",
       "      <td>BBVA TRADICIONAL REINTENTO</td>\n",
       "      <td>REINTENTO</td>\n",
       "      <td>TRADICIONAL</td>\n",
       "    </tr>\n",
       "    <tr>\n",
       "      <th>1</th>\n",
       "      <td>139345</td>\n",
       "      <td>122162</td>\n",
       "      <td>35530242</td>\n",
       "      <td>12</td>\n",
       "      <td>468.56</td>\n",
       "      <td>468.56</td>\n",
       "      <td>0.0</td>\n",
       "      <td>NaN</td>\n",
       "      <td>4.0</td>\n",
       "      <td>BBVA MEXICO</td>\n",
       "      <td>6</td>\n",
       "      <td>BBVA TRADICIONAL REINTENTO</td>\n",
       "      <td>REINTENTO</td>\n",
       "      <td>TRADICIONAL</td>\n",
       "    </tr>\n",
       "    <tr>\n",
       "      <th>2</th>\n",
       "      <td>139345</td>\n",
       "      <td>122162</td>\n",
       "      <td>35530243</td>\n",
       "      <td>12</td>\n",
       "      <td>780.94</td>\n",
       "      <td>780.94</td>\n",
       "      <td>0.0</td>\n",
       "      <td>NaN</td>\n",
       "      <td>4.0</td>\n",
       "      <td>BBVA MEXICO</td>\n",
       "      <td>6</td>\n",
       "      <td>BBVA TRADICIONAL REINTENTO</td>\n",
       "      <td>REINTENTO</td>\n",
       "      <td>TRADICIONAL</td>\n",
       "    </tr>\n",
       "    <tr>\n",
       "      <th>3</th>\n",
       "      <td>139345</td>\n",
       "      <td>122162</td>\n",
       "      <td>35530244</td>\n",
       "      <td>12</td>\n",
       "      <td>312.37</td>\n",
       "      <td>312.37</td>\n",
       "      <td>0.0</td>\n",
       "      <td>NaN</td>\n",
       "      <td>4.0</td>\n",
       "      <td>BBVA MEXICO</td>\n",
       "      <td>6</td>\n",
       "      <td>BBVA TRADICIONAL REINTENTO</td>\n",
       "      <td>REINTENTO</td>\n",
       "      <td>TRADICIONAL</td>\n",
       "    </tr>\n",
       "    <tr>\n",
       "      <th>4</th>\n",
       "      <td>139345</td>\n",
       "      <td>123763</td>\n",
       "      <td>35530245</td>\n",
       "      <td>12</td>\n",
       "      <td>817.48</td>\n",
       "      <td>817.48</td>\n",
       "      <td>0.0</td>\n",
       "      <td>NaN</td>\n",
       "      <td>4.0</td>\n",
       "      <td>BBVA MEXICO</td>\n",
       "      <td>6</td>\n",
       "      <td>BBVA TRADICIONAL REINTENTO</td>\n",
       "      <td>REINTENTO</td>\n",
       "      <td>TRADICIONAL</td>\n",
       "    </tr>\n",
       "  </tbody>\n",
       "</table>\n",
       "</div>"
      ],
      "text/plain": [
       "   idListaCobro  idCredito  consecutivoCobro  idBanco  montoExigible  \\\n",
       "0        139345      85784          35530241       12         539.53   \n",
       "1        139345     122162          35530242       12         468.56   \n",
       "2        139345     122162          35530243       12         780.94   \n",
       "3        139345     122162          35530244       12         312.37   \n",
       "4        139345     123763          35530245       12         817.48   \n",
       "\n",
       "   montoCobrar  montoCobrado fechaCobroBanco  idRespuestaBanco  nombreBanco  \\\n",
       "0       539.53           0.0             NaN               4.0  BBVA MEXICO   \n",
       "1       468.56           0.0             NaN               4.0  BBVA MEXICO   \n",
       "2       780.94           0.0             NaN               4.0  BBVA MEXICO   \n",
       "3       312.37           0.0             NaN               4.0  BBVA MEXICO   \n",
       "4       817.48           0.0             NaN               4.0  BBVA MEXICO   \n",
       "\n",
       "   idEmisora               nombreEmisora    Emisora    TipoEnvio  \n",
       "0          6  BBVA TRADICIONAL REINTENTO  REINTENTO  TRADICIONAL  \n",
       "1          6  BBVA TRADICIONAL REINTENTO  REINTENTO  TRADICIONAL  \n",
       "2          6  BBVA TRADICIONAL REINTENTO  REINTENTO  TRADICIONAL  \n",
       "3          6  BBVA TRADICIONAL REINTENTO  REINTENTO  TRADICIONAL  \n",
       "4          6  BBVA TRADICIONAL REINTENTO  REINTENTO  TRADICIONAL  "
      ]
     },
     "execution_count": 7,
     "metadata": {},
     "output_type": "execute_result"
    }
   ],
   "source": [
    "cobros_detallados = cobros_detallados.merge(df_id_banco, on='idBanco', how='left') # Obtener nombre de banco\n",
    "cobros_detallados = cobros_detallados.merge(df_id_listaemisor, on='idListaCobro', how='left') # Obtener ID emisora\n",
    "cobros_detallados = cobros_detallados.merge(df_id_emisora, on='idEmisora', how='left') # Obtener datos de emisora\n",
    "cobros_detallados.head()"
   ]
  },
  {
   "cell_type": "code",
   "execution_count": 8,
   "id": "4de08b9a",
   "metadata": {},
   "outputs": [],
   "source": [
    "# Success flag\n",
    "cobros_detallados['pagado'] = cobros_detallados['montoCobrado'] > 0\n",
    "\n",
    "# Apply the evaluation\n",
    "cobros_detallados['potencial'] = cobros_detallados.apply(es_potencial, axis=1)"
   ]
  },
  {
   "cell_type": "markdown",
   "id": "6e280cf9",
   "metadata": {},
   "source": [
    "## Test de hipótesis\n",
    "$H_0$: Mean montoCobrado is the same across groups.\n",
    "\n",
    "$H_1$: Mean montoCobrado is higher for potencial == True."
   ]
  },
  {
   "cell_type": "code",
   "execution_count": 10,
   "id": "bd0c2e59",
   "metadata": {},
   "outputs": [
    {
     "name": "stdout",
     "output_type": "stream",
     "text": [
      "Z = 288.5667, p-value = 0.0000\n"
     ]
    }
   ],
   "source": [
    "from scipy.stats import norm\n",
    "\n",
    "# Count successes and total for each group\n",
    "success_true = cobros_detallados[cobros_detallados['potencial'] == True]['pagado'].sum()\n",
    "n_true = cobros_detallados[cobros_detallados['potencial'] == True]['pagado'].count()\n",
    "\n",
    "success_false = cobros_detallados[cobros_detallados['potencial'] != True]['pagado'].sum()\n",
    "n_false = cobros_detallados[cobros_detallados['potencial'] != True]['pagado'].count()\n",
    "\n",
    "# Proportions\n",
    "p1 = success_true / n_true\n",
    "p2 = success_false / n_false\n",
    "\n",
    "# Pooled proportion\n",
    "p_pool = (success_true + success_false) / (n_true + n_false)\n",
    "\n",
    "# Standard error\n",
    "se = np.sqrt(p_pool * (1 - p_pool) * (1/n_true + 1/n_false))\n",
    "\n",
    "# Z-score\n",
    "z = (p1 - p2) / se\n",
    "\n",
    "# Two-tailed p-value\n",
    "pval = 2 * norm.sf(abs(z))\n",
    "\n",
    "print(f\"Z = {z:.4f}, p-value = {pval:.4f}\")\n",
    "\n"
   ]
  },
  {
   "cell_type": "code",
   "execution_count": 11,
   "id": "9e7abcf3",
   "metadata": {},
   "outputs": [
    {
     "name": "stdout",
     "output_type": "stream",
     "text": [
      "T-test p-value: 0.0000\n"
     ]
    }
   ],
   "source": [
    "from scipy.stats import ttest_ind\n",
    "\n",
    "group_true = cobros_detallados[cobros_detallados['potencial'] == True]['montoCobrado']\n",
    "group_false = cobros_detallados[cobros_detallados['potencial'] != True]['montoCobrado']\n",
    "\n",
    "# Perform t-test\n",
    "t_stat, pval = ttest_ind(group_true, group_false, equal_var=False)  # Welch's t-test\n",
    "print(f\"T-test p-value: {pval:.4f}\")\n"
   ]
  },
  {
   "cell_type": "code",
   "execution_count": null,
   "id": "5c412ebd",
   "metadata": {},
   "outputs": [],
   "source": []
  }
 ],
 "metadata": {
  "kernelspec": {
   "display_name": "Python 3",
   "language": "python",
   "name": "python3"
  },
  "language_info": {
   "codemirror_mode": {
    "name": "ipython",
    "version": 3
   },
   "file_extension": ".py",
   "mimetype": "text/x-python",
   "name": "python",
   "nbconvert_exporter": "python",
   "pygments_lexer": "ipython3",
   "version": "3.12.3"
  }
 },
 "nbformat": 4,
 "nbformat_minor": 5
}
