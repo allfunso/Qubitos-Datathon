{
 "cells": [
  {
   "cell_type": "markdown",
   "id": "48a460a8",
   "metadata": {},
   "source": [
    "# Calculate expectation value of collection order"
   ]
  },
  {
   "cell_type": "code",
   "execution_count": 1,
   "id": "e54a00db",
   "metadata": {},
   "outputs": [],
   "source": [
    "import numpy as np\n",
    "import pandas as pd\n",
    "import matplotlib.pyplot as plt\n",
    "import json"
   ]
  },
  {
   "cell_type": "markdown",
   "id": "626ed604",
   "metadata": {},
   "source": [
    "## Import costs"
   ]
  },
  {
   "cell_type": "code",
   "execution_count": null,
   "id": "a4022f1d",
   "metadata": {},
   "outputs": [],
   "source": [
    "# Load the cost structure\n",
    "with open('costos.json', 'r') as f:\n",
    "    costos = json.load(f)\n",
    "\n",
    "\n",
    "# Function to evaluate if an order is potentially profitable\n",
    "def es_potencial(banco, metodo, monto):\n",
    "    \n",
    "    try:\n",
    "        costo = costos[banco][metodo]\n",
    "        expected_value = tasa * monto\n",
    "        return expected_value > costo\n",
    "    except KeyError:\n",
    "        # If no matching cost found, return None or False\n",
    "        return None\n",
    "\n",
    "# Merge rate back into the main dataframe\n",
    "tasa_map = cobros_detallados.groupby('nombreEmisora')['pagado'].mean().to_dict()\n",
    "cobros_detallados['tasa_pago'] = cobros_detallados['nombreEmisora'].map(tasa_map)\n",
    "\n",
    "# Apply the evaluation\n",
    "cobros_detallados['potencial'] = cobros_detallados.apply(es_potencial, axis=1)"
   ]
  }
 ],
 "metadata": {
  "kernelspec": {
   "display_name": "Python 3",
   "language": "python",
   "name": "python3"
  },
  "language_info": {
   "codemirror_mode": {
    "name": "ipython",
    "version": 3
   },
   "file_extension": ".py",
   "mimetype": "text/x-python",
   "name": "python",
   "nbconvert_exporter": "python",
   "pygments_lexer": "ipython3",
   "version": "3.12.3"
  }
 },
 "nbformat": 4,
 "nbformat_minor": 5
}
